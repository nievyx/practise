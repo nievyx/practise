{
  "nbformat": 4,
  "nbformat_minor": 0,
  "metadata": {
    "colab": {
      "provenance": []
    },
    "kernelspec": {
      "name": "python3",
      "display_name": "Python 3"
    },
    "language_info": {
      "name": "python"
    }
  },
  "cells": [
    {
      "cell_type": "code",
      "execution_count": 2,
      "metadata": {
        "id": "PXUKtCnFZQIf"
      },
      "outputs": [],
      "source": [
        "#Binary Trees\n",
        "class TreeNode:\n",
        "  def __init__ (self, val, left=None, right=None):\n",
        "    self.val = val\n",
        "    self.left = left\n",
        "    self.right = right\n",
        "\n",
        "  def __str__(self):\n",
        "    return str(self.val)"
      ]
    },
    {
      "cell_type": "code",
      "source": [
        "  #       1\n",
        "  #    2     3\n",
        "  #  4  5  10"
      ],
      "metadata": {
        "id": "zHFtyKamasSB"
      },
      "execution_count": null,
      "outputs": []
    },
    {
      "cell_type": "code",
      "source": [
        "A= TreeNode(1)\n",
        "B= TreeNode(2)\n",
        "C= TreeNode(3)\n",
        "D= TreeNode(4)\n",
        "E= TreeNode(5)\n",
        "F= TreeNode(10)\n",
        "\n",
        "A.left = B\n",
        "A.right = C\n",
        "B.left = D\n",
        "B.right = E\n",
        "C.left = F\n",
        "\n",
        "print(A)"
      ],
      "metadata": {
        "colab": {
          "base_uri": "https://localhost:8080/"
        },
        "id": "vKIOlY0ybDss",
        "outputId": "08362791-f3a3-4ade-f661-b40db5fc6bfc"
      },
      "execution_count": 3,
      "outputs": [
        {
          "output_type": "stream",
          "name": "stdout",
          "text": [
            "1\n"
          ]
        }
      ]
    },
    {
      "cell_type": "code",
      "source": [
        "# Recursive Pre Order Traversal (DFS) Time:O(n), Space: 0(n)\n",
        "def pre_order(node):\n",
        "  if not node:\n",
        "    return\n",
        "\n",
        "  print(node)\n",
        "  pre_order(node.left)\n",
        "  pre_order(node.right)\n",
        "\n",
        "pre_order(A)"
      ],
      "metadata": {
        "colab": {
          "base_uri": "https://localhost:8080/"
        },
        "id": "MczTeEGCb_Zp",
        "outputId": "649d12e8-67e4-4a4a-eb43-7ddae4c54a33"
      },
      "execution_count": 8,
      "outputs": [
        {
          "output_type": "stream",
          "name": "stdout",
          "text": [
            "1\n",
            "2\n",
            "4\n",
            "5\n",
            "3\n",
            "10\n"
          ]
        }
      ]
    },
    {
      "cell_type": "code",
      "source": [
        "# Recursive In Order Traversal (DFS) Time: O(n), Space: O(n)\n",
        "def in_order(node):\n",
        "  if not node:\n",
        "    return\n",
        "\n",
        "  in_order(node.left)\n",
        "  print(node)\n",
        "  in_order(node.right)\n",
        "\n",
        "in_order(A)"
      ],
      "metadata": {
        "colab": {
          "base_uri": "https://localhost:8080/"
        },
        "id": "8Vw8vvFZcqbS",
        "outputId": "60970374-a880-40ad-f888-e87bd2c6738c"
      },
      "execution_count": 13,
      "outputs": [
        {
          "output_type": "stream",
          "name": "stdout",
          "text": [
            "4\n",
            "2\n",
            "5\n",
            "1\n",
            "10\n",
            "3\n"
          ]
        }
      ]
    },
    {
      "cell_type": "code",
      "source": [
        "# Recursive Post Order Traversal (DFS) Time: O(n), Space: O(n)\n",
        "def post_order(node):\n",
        "  if not node:\n",
        "    return\n",
        "\n",
        "  post_order(node.left)\n",
        "  post_order(node.right)\n",
        "  print(node)\n",
        "\n",
        "post_order(A)"
      ],
      "metadata": {
        "colab": {
          "base_uri": "https://localhost:8080/"
        },
        "id": "qKxMklUje2q4",
        "outputId": "517fefb5-f9d6-4459-f9c3-9da94314c38b"
      },
      "execution_count": 14,
      "outputs": [
        {
          "output_type": "stream",
          "name": "stdout",
          "text": [
            "4\n",
            "5\n",
            "2\n",
            "10\n",
            "3\n",
            "1\n"
          ]
        }
      ]
    },
    {
      "cell_type": "code",
      "source": [
        "# Iterative Pre Order Traversal (DFS) Time: O(n), Space: O(n)\n",
        "# (Put root node on stack)\n",
        "def pre_order_iterative(node):\n",
        "  stk = [node]\n",
        "\n",
        "  while stk:\n",
        "    node = stk.pop()\n",
        "    if node.right: stk.append(node.right) # Push the right child (if it exists) onto the stack first.\n",
        "    if node.left: stk.append(node.left)  # Push the left child (if it exists) onto the stack.\n",
        "    print(node)\n",
        "\n",
        "pre_order_iterative(A)\n"
      ],
      "metadata": {
        "colab": {
          "base_uri": "https://localhost:8080/"
        },
        "id": "axo-W8nNgIUt",
        "outputId": "7e8ffe51-d769-48b7-91aa-62c277969e17"
      },
      "execution_count": 21,
      "outputs": [
        {
          "output_type": "stream",
          "name": "stdout",
          "text": [
            "1\n",
            "2\n",
            "4\n",
            "5\n",
            "3\n",
            "10\n"
          ]
        }
      ]
    },
    {
      "cell_type": "code",
      "source": [
        "# Level Order Traversal (BFS) Time: O(n), Space: O(n)\n",
        "from collections import deque\n",
        "\n",
        "def level_order(node):\n",
        "  q = deque()\n",
        "  q.append(node)\n",
        "\n",
        "  while q:\n",
        "    node = q.popleft()\n",
        "    print(node)\n",
        "    if node.left: q.append(node.left)\n",
        "    if node.right: q.append(node.right)\n",
        "\n",
        "level_order(A)"
      ],
      "metadata": {
        "colab": {
          "base_uri": "https://localhost:8080/"
        },
        "id": "ERgANJu4h2TZ",
        "outputId": "339bafe4-2441-4467-c638-7ab2973970cd"
      },
      "execution_count": 23,
      "outputs": [
        {
          "output_type": "stream",
          "name": "stdout",
          "text": [
            "1\n",
            "2\n",
            "3\n",
            "4\n",
            "5\n",
            "10\n"
          ]
        }
      ]
    },
    {
      "cell_type": "code",
      "source": [
        "# Check if Value Exists (DFS) Time: O(n), Space: O(n)\n",
        "def search(node, target):\n",
        "  if not node:\n",
        "    return False\n",
        "\n",
        "  if node.val == target:\n",
        "    return True\n",
        "\n",
        "  return search(node.left, target) or search(node.right, target)\n",
        "\n",
        "search(A, -10)"
      ],
      "metadata": {
        "colab": {
          "base_uri": "https://localhost:8080/"
        },
        "id": "VJJLdzSSizg-",
        "outputId": "061c802e-61d4-47b2-f71e-d9fc7a09ad30"
      },
      "execution_count": 27,
      "outputs": [
        {
          "output_type": "execute_result",
          "data": {
            "text/plain": [
              "False"
            ]
          },
          "metadata": {},
          "execution_count": 27
        }
      ]
    },
    {
      "cell_type": "code",
      "source": [
        "# Binary Search Trees (BTS)\n",
        "\n",
        "#     5\n",
        "#   1    8\n",
        "# -1 3  7 9\n",
        "\n",
        "A2 = TreeNode(5)\n",
        "B2 = TreeNode(1)\n",
        "C2 = TreeNode(8)\n",
        "D2 = TreeNode(-1)\n",
        "E2 = TreeNode(3)\n",
        "F2 = TreeNode(7)\n",
        "G2 = TreeNode(9)\n",
        "\n",
        "A2.left, A2.right = B2, C2\n",
        "B2.left, B2.right = D2, E2\n",
        "C2.left, C2.right = F2, G2\n",
        "\n",
        "print(A2)"
      ],
      "metadata": {
        "colab": {
          "base_uri": "https://localhost:8080/"
        },
        "id": "rQ15L2DhjyAs",
        "outputId": "8e5cf308-0158-4a5e-82c0-a612b91ad38d"
      },
      "execution_count": 28,
      "outputs": [
        {
          "output_type": "stream",
          "name": "stdout",
          "text": [
            "5\n"
          ]
        }
      ]
    },
    {
      "cell_type": "code",
      "source": [
        "in_order(A2)"
      ],
      "metadata": {
        "colab": {
          "base_uri": "https://localhost:8080/"
        },
        "id": "orNXBl-mk7jZ",
        "outputId": "3fd78e8f-b3c0-4cdb-8644-ec18fce2b689"
      },
      "execution_count": 29,
      "outputs": [
        {
          "output_type": "stream",
          "name": "stdout",
          "text": [
            "-1\n",
            "1\n",
            "3\n",
            "5\n",
            "7\n",
            "8\n",
            "9\n"
          ]
        }
      ]
    },
    {
      "cell_type": "code",
      "source": [
        "# Time: O(log n), Space: O(log n)\n",
        "def search_bst(node, target):\n",
        "  if not node:\n",
        "    return False\n",
        "\n",
        "  if node.val == target:\n",
        "    return True\n",
        "\n",
        "  if target < node.val: return search_bst(node.left, target)\n",
        "  else: return search_bst(node.right, target)\n",
        "\n",
        "search_bst(A2,7)"
      ],
      "metadata": {
        "colab": {
          "base_uri": "https://localhost:8080/"
        },
        "id": "kSvwLUO5k-zc",
        "outputId": "b04fdbe1-46cc-412a-d38d-91bdc59be3bb"
      },
      "execution_count": 32,
      "outputs": [
        {
          "output_type": "execute_result",
          "data": {
            "text/plain": [
              "True"
            ]
          },
          "metadata": {},
          "execution_count": 32
        }
      ]
    }
  ]
}