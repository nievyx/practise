{
  "nbformat": 4,
  "nbformat_minor": 0,
  "metadata": {
    "colab": {
      "provenance": [],
      "authorship_tag": "ABX9TyPIPXPHdec5oZW7sxwcTNgM",
      "include_colab_link": true
    },
    "kernelspec": {
      "name": "python3",
      "display_name": "Python 3"
    },
    "language_info": {
      "name": "python"
    }
  },
  "cells": [
    {
      "cell_type": "markdown",
      "metadata": {
        "id": "view-in-github",
        "colab_type": "text"
      },
      "source": [
        "<a href=\"https://colab.research.google.com/github/nievyx/practise/blob/main/Using_Pandas_with_Google_Sheets.ipynb\" target=\"_parent\"><img src=\"https://colab.research.google.com/assets/colab-badge.svg\" alt=\"Open In Colab\"/></a>"
      ]
    },
    {
      "cell_type": "code",
      "source": [
        "#for this to work first make\n",
        "#sheet share with anyone with link\n",
        "#then grab file id"
      ],
      "metadata": {
        "id": "T14q4sToctF0"
      },
      "execution_count": null,
      "outputs": []
    },
    {
      "cell_type": "code",
      "source": [
        "link = 'https://docs.google.com/spreadsheets/d/1-8FBD0bXw9QrptCW7vS9-X-lDqHkMV0qB9w0sZI6hbY/edi'"
      ],
      "metadata": {
        "id": "b_YKcCX0ctbu"
      },
      "execution_count": null,
      "outputs": []
    },
    {
      "cell_type": "code",
      "source": [
        "import pandas as pd\n",
        "\n",
        "file_id = '1-8FBD0bXw9QrptCW7vS9-X-lDqHkMV0qB9w0sZI6hbY'\n",
        "url = f'https://docs.google.com/spreadsheets/d/{file_id}/export?format=csv'\n",
        "\n",
        "df = pd.read_csv(url)\n"
      ],
      "metadata": {
        "id": "UI3aIPifeGgf"
      },
      "execution_count": null,
      "outputs": []
    },
    {
      "cell_type": "code",
      "source": [
        "print(df)"
      ],
      "metadata": {
        "colab": {
          "base_uri": "https://localhost:8080/"
        },
        "id": "I2TcwRqYgKm6",
        "outputId": "a9d58e1e-6c33-4b02-9c6f-82e8e310fcb8"
      },
      "execution_count": null,
      "outputs": [
        {
          "output_type": "stream",
          "name": "stdout",
          "text": [
            "      Name  HP            Moves\n",
            "0  Pikachu  50     Quick Attack\n",
            "1    Rotom  80  Electric Attack\n"
          ]
        }
      ]
    },
    {
      "cell_type": "code",
      "source": [
        "print(df[df['Name'] == 'Pikachu'])"
      ],
      "metadata": {
        "colab": {
          "base_uri": "https://localhost:8080/"
        },
        "id": "eX1L0tn_gg55",
        "outputId": "2d028d57-b881-4add-a193-e94dee96a535"
      },
      "execution_count": 9,
      "outputs": [
        {
          "output_type": "stream",
          "name": "stdout",
          "text": [
            "      Name  HP         Moves\n",
            "0  Pikachu  50  Quick Attack\n"
          ]
        }
      ]
    }
  ]
}