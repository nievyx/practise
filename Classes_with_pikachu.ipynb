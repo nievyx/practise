{
  "nbformat": 4,
  "nbformat_minor": 0,
  "metadata": {
    "colab": {
      "provenance": [],
      "authorship_tag": "ABX9TyOWwgFxrpW5nsTCDQAQbobk",
      "include_colab_link": true
    },
    "kernelspec": {
      "name": "python3",
      "display_name": "Python 3"
    },
    "language_info": {
      "name": "python"
    }
  },
  "cells": [
    {
      "cell_type": "markdown",
      "metadata": {
        "id": "view-in-github",
        "colab_type": "text"
      },
      "source": [
        "<a href=\"https://colab.research.google.com/github/nievyx/practise/blob/main/Classes_with_pikachu.ipynb\" target=\"_parent\"><img src=\"https://colab.research.google.com/assets/colab-badge.svg\" alt=\"Open In Colab\"/></a>"
      ]
    },
    {
      "cell_type": "code",
      "execution_count": 9,
      "metadata": {
        "id": "M6q2HWcmv9n_"
      },
      "outputs": [],
      "source": [
        "class Pokemon:\n",
        "  def __init__(self, name, hp, moves):\n",
        "    self.name = name\n",
        "    self.hp = hp\n",
        "    self.moves = moves\n",
        "\n",
        "  def __str__(self):\n",
        "    return f'{self.name} HP: {self.hp}'\n",
        "\n",
        "  def use_moves(self):\n",
        "    return f'{self.name} used {self.moves}'\n",
        "\n",
        "\n",
        "pikachu = Pokemon('Pikachu', 50, 'Quick Attack')"
      ]
    },
    {
      "cell_type": "code",
      "source": [
        "print(pikachu.hp)"
      ],
      "metadata": {
        "colab": {
          "base_uri": "https://localhost:8080/"
        },
        "id": "_ex8uifsynxL",
        "outputId": "2d978d97-a9fd-480e-8ed0-10822fd6f4f1"
      },
      "execution_count": 3,
      "outputs": [
        {
          "output_type": "stream",
          "name": "stdout",
          "text": [
            "50\n"
          ]
        }
      ]
    },
    {
      "cell_type": "code",
      "source": [
        "print(pikachu)"
      ],
      "metadata": {
        "colab": {
          "base_uri": "https://localhost:8080/"
        },
        "id": "ANWcqesz6oQx",
        "outputId": "e067a014-5afb-4ab7-c1e0-5834e515bcd8"
      },
      "execution_count": 8,
      "outputs": [
        {
          "output_type": "stream",
          "name": "stdout",
          "text": [
            "Pikachu HP: 50\n"
          ]
        }
      ]
    },
    {
      "cell_type": "code",
      "source": [
        "pikachu.use_moves()"
      ],
      "metadata": {
        "colab": {
          "base_uri": "https://localhost:8080/",
          "height": 36
        },
        "id": "ddaPWhhR-Fyz",
        "outputId": "e9f75755-2e7a-433b-e580-5e707016824d"
      },
      "execution_count": 11,
      "outputs": [
        {
          "output_type": "execute_result",
          "data": {
            "text/plain": [
              "'Pikachu used Quick Attack'"
            ],
            "application/vnd.google.colaboratory.intrinsic+json": {
              "type": "string"
            }
          },
          "metadata": {},
          "execution_count": 11
        }
      ]
    }
  ]
}